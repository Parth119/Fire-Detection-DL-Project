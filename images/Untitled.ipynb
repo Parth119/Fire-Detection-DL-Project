{
 "cells": [
  {
   "cell_type": "code",
   "execution_count": 5,
   "id": "0074ce34",
   "metadata": {},
   "outputs": [],
   "source": [
    "import cv2\n",
    "import numpy as np"
   ]
  },
  {
   "cell_type": "code",
   "execution_count": 57,
   "id": "7f23ed45",
   "metadata": {},
   "outputs": [],
   "source": [
    "image = cv2.imread('fire3.jpeg')\n",
    "#cv2.imshow(\"Window\",image)\n",
    "cv2.waitKey(0) \n",
    "cv2.destroyAllWindows() "
   ]
  },
  {
   "cell_type": "code",
   "execution_count": 58,
   "id": "cbd6603d",
   "metadata": {},
   "outputs": [],
   "source": [
    "frame = cv2.resize(image, (960, 540))\n",
    "blur = cv2.GaussianBlur(frame, (21, 21), 0)\n",
    "hsv = cv2.cvtColor(blur, cv2.COLOR_BGR2HSV)\n",
    "\n",
    "lower = [15, 56, 100] #[18, 50, 50]\n",
    "upper = [237, 255, 255] #[35, 255, 255]\n",
    "lower = np.array(lower, dtype=\"uint8\")\n",
    "upper = np.array(upper, dtype=\"uint8\")\n",
    "\n",
    "mask = cv2.inRange(hsv, lower, upper)"
   ]
  },
  {
   "cell_type": "code",
   "execution_count": 59,
   "id": "8c97f2d6",
   "metadata": {},
   "outputs": [],
   "source": [
    "cv2.imshow(\"Mask\",mask)\n",
    "cv2.imshow(\"Original\",frame)\n",
    "cv2.imshow(\"HSV\",hsv)\n",
    "key=cv2.waitKey(0)\n",
    "if(key==27):\n",
    "    cv2.destroyAllWindows() "
   ]
  },
  {
   "cell_type": "code",
   "execution_count": null,
   "id": "d98235e5",
   "metadata": {},
   "outputs": [],
   "source": []
  }
 ],
 "metadata": {
  "kernelspec": {
   "display_name": "Python 3 (ipykernel)",
   "language": "python",
   "name": "python3"
  },
  "language_info": {
   "codemirror_mode": {
    "name": "ipython",
    "version": 3
   },
   "file_extension": ".py",
   "mimetype": "text/x-python",
   "name": "python",
   "nbconvert_exporter": "python",
   "pygments_lexer": "ipython3",
   "version": "3.9.12"
  }
 },
 "nbformat": 4,
 "nbformat_minor": 5
}
